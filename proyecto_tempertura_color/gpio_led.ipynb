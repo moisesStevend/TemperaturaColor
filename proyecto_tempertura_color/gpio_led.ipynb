{
 "cells": [
  {
   "cell_type": "code",
   "execution_count": 21,
   "metadata": {},
   "outputs": [],
   "source": [
    "import RPi.GPIO as GPIO\n",
    "\n",
    "ledPinRed1 = 18 #\n",
    "ledPinRed2 = 12 #\n",
    "\n",
    "ledPinBlue1 = 23 #\n",
    "ledPinBlue2 = 24#\n",
    "\n",
    "GPIO.setmode(GPIO.BCM) # Broadcom pin-numbering scheme\n",
    "\n",
    "GPIO.setup(ledPinRed1, GPIO.OUT) # LED pin set as output\n",
    "GPIO.setup(ledPinRed2, GPIO.OUT) # LED pin set as output\n",
    "GPIO.setup(ledPinBlue1, GPIO.OUT) # LED pin set as output\n",
    "GPIO.setup(ledPinBlue2, GPIO.OUT) # LED pin set as output\n"
   ]
  },
  {
   "cell_type": "code",
   "execution_count": 22,
   "metadata": {},
   "outputs": [],
   "source": [
    "GPIO.output(ledPinRed1, GPIO.LOW)\n",
    "GPIO.output(ledPinRed2, GPIO.LOW)\n",
    "GPIO.output(ledPinBlue1, GPIO.LOW)\n",
    "GPIO.output(ledPinBlue2, GPIO.LOW)"
   ]
  },
  {
   "cell_type": "code",
   "execution_count": 23,
   "metadata": {},
   "outputs": [],
   "source": [
    "GPIO.output(ledPinRed1, GPIO.HIGH)\n",
    "GPIO.output(ledPinRed2, GPIO.HIGH)\n",
    "GPIO.output(ledPinBlue1, GPIO.HIGH)\n",
    "GPIO.output(ledPinBlue2, GPIO.HIGH)"
   ]
  },
  {
   "cell_type": "code",
   "execution_count": 24,
   "metadata": {},
   "outputs": [],
   "source": [
    "import colour"
   ]
  }
 ],
 "metadata": {
  "kernelspec": {
   "display_name": "Python 3",
   "language": "python",
   "name": "python3"
  },
  "language_info": {
   "codemirror_mode": {
    "name": "ipython",
    "version": 3
   },
   "file_extension": ".py",
   "mimetype": "text/x-python",
   "name": "python",
   "nbconvert_exporter": "python",
   "pygments_lexer": "ipython3",
   "version": "3.5.3"
  }
 },
 "nbformat": 4,
 "nbformat_minor": 2
}
